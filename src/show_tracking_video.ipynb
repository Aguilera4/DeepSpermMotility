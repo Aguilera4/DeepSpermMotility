{
 "cells": [
  {
   "cell_type": "markdown",
   "metadata": {},
   "source": [
    "## Library imports"
   ]
  },
  {
   "cell_type": "code",
   "execution_count": 1,
   "metadata": {},
   "outputs": [],
   "source": [
    "import cv2\n",
    "import pandas as pd\n",
    "from sort.sort import *\n",
    "from classify_by_movement import *\n",
    "from calculate_features import *"
   ]
  },
  {
   "cell_type": "code",
   "execution_count": 2,
   "metadata": {},
   "outputs": [],
   "source": [
    "# Show graph inline\n",
    "%matplotlib inline"
   ]
  },
  {
   "cell_type": "markdown",
   "metadata": {},
   "source": [
    "## Show results of video"
   ]
  },
  {
   "cell_type": "code",
   "execution_count": 10,
   "metadata": {},
   "outputs": [],
   "source": [
    "# Open the video file\n",
    "video_number = str(11)\n",
    "fps = 50  # Replace with your video's frame rate\n",
    "\n",
    "#video_path = 'data/data_orig/val/'+video_number+'/'+video_number+'.mp4'\n",
    "video_path = '../data/ViSEM_Tracking_extended/train/'+ video_number + '/' + video_number + '.mp4'"
   ]
  },
  {
   "cell_type": "markdown",
   "metadata": {},
   "source": [
    "## Calculate centroid"
   ]
  },
  {
   "cell_type": "code",
   "execution_count": 5,
   "metadata": {},
   "outputs": [],
   "source": [
    "# Load the tracking data from a CSV file\n",
    "df = pd.read_csv('../results/sperm_tracking_individual/sperm_tracking_data_' + video_number + '.csv')\n",
    "\n",
    "# Calculate velocity for each track_id\n",
    "df['velocity_x'] = 0.0\n",
    "df['velocity_y'] = 0.0\n",
    "df['speed'] = 0.0\n",
    "\n",
    "# Frame rate of the video (frames per second)\n",
    "dt = 1 / fps  # Time interval between frames\n",
    "\n",
    "# Group by track_id and calculate velocity\n",
    "for track_id, group in df.groupby('track_id'):\n",
    "    # Calculate displacement (delta x and delta y)\n",
    "    group['delta_x'] = group['cx'].diff()\n",
    "    group['delta_y'] = group['cy'].diff()\n",
    "\n",
    "    # Calculate velocity (pixels per second)\n",
    "    group['velocity_x'] = group['delta_x'] / dt\n",
    "    group['velocity_y'] = group['delta_y'] / dt\n",
    "\n",
    "    # Calculate speed (magnitude of velocity)\n",
    "    group['speed'] = (group['velocity_x']**2 + group['velocity_y']**2)**0.5\n",
    "    \n",
    "    # Calculate mean and maximum velocity\n",
    "    group[\"mean_velocity\"] = group['speed'].mean()\n",
    "    group[\"max_velocity\"] = group['speed'].max()\n",
    "    \n",
    "    df.loc[group.index, ['mean_velocity', 'max_velocity']] = group[['mean_velocity', 'max_velocity']].fillna(0)\n",
    "    \n",
    "    # Update the original DataFrame\n",
    "    df.loc[group.index, ['velocity_x', 'velocity_y', 'speed']] = group[['velocity_x', 'velocity_y', 'speed']].fillna(0)\n",
    "\n",
    "# Save the updated DataFrame with velocity data\n",
    "df.to_csv('../results/data_sperm_track_and_velocity/sperm_tracking_with_velocity_' + video_number + '.csv', index=False)"
   ]
  },
  {
   "cell_type": "markdown",
   "metadata": {},
   "source": [
    "## Show tracking and velocitty in video"
   ]
  },
  {
   "cell_type": "code",
   "execution_count": 12,
   "metadata": {},
   "outputs": [],
   "source": [
    "# Load the tracking data with velocity\n",
    "df = pd.read_csv('../results/data_sperm_track_and_velocity/sperm_tracking_with_velocity_' + video_number + '.csv')\n",
    "df_class = pd.read_csv('../results/data_features_labelling/dataset_4c_11.csv')\n",
    "\n",
    "#df_class = df_class[df_class['sperm_id'].isin([35])]\n",
    "\n",
    "# Open the video file\n",
    "cap = cv2.VideoCapture(video_path)\n",
    "\n",
    "# Set the slow-motion factor (1 is for normal velocity and ~0 for slow velocity)\n",
    "slow_motion_factor = 1 # Adjust this value as needed\n",
    "original_delay = int(1000 / fps)  # Delay in milliseconds\n",
    "new_delay = int(original_delay / slow_motion_factor) # Calculate the new delay between frames\n",
    "\n",
    "# Variables\n",
    "trajectories = {}\n",
    "total_class = 4\n",
    "\n",
    "# Process the video frame by frame\n",
    "frame_id = 0\n",
    "\n",
    "    \n",
    "while cap.isOpened():\n",
    "    ret, frame = cap.read()\n",
    "    if not ret:\n",
    "        break\n",
    "\n",
    "    # Get the data for the current frame\n",
    "    frame_data = df[df['frame_id'] == frame_id]\n",
    "\n",
    "    # Draw sperm items\n",
    "    for _, row in frame_data.iterrows():\n",
    "        cx, cy = int(row['cx']), int(row['cy'])\n",
    "        \n",
    "        # Set sperm trajectory\n",
    "        track_id = int(row['track_id'])\n",
    "        if track_id not in trajectories:\n",
    "            trajectories[track_id] = []\n",
    "        trajectories[track_id].append((cx, cy))\n",
    "        \n",
    "        # Set class\n",
    "        n_class = 0\n",
    "        try:\n",
    "            n_class = int(df_class[df_class['sperm_id']==track_id]['label'])\n",
    "        except:\n",
    "            continue\n",
    "        \n",
    "        \n",
    "        # Define the color according to the class. Estructure: 2c/3c/4c\n",
    "        color = (0, 0, 0)\n",
    "        if n_class == 0:\n",
    "            color = (0, 255, 0) # Green - Progressive/Progressive/Rapdly progressive\n",
    "        elif n_class == 1:\n",
    "            color = (255, 0, 0) # Blue - Non progressive/Non progressive/Slowly progressive\n",
    "        elif n_class == 2:\n",
    "            if total_class == 3:\n",
    "                color =  (0, 0, 255)  # Red - -/-/Inmotile\n",
    "            else:\n",
    "                color = (0, 255, 255) # Yellow - -/Inmotile/Non progressive\n",
    "        elif n_class == 3:\n",
    "            color =  (0, 0, 255)  # Red - -/-/Inmotile\n",
    "    \n",
    "        # Draw path\n",
    "        for i in range(1, len(trajectories[track_id])):\n",
    "            cv2.line(frame, (int(trajectories[track_id][i - 1][0]),int(trajectories[track_id][i - 1][1])), (int(trajectories[track_id][i][0]),int(trajectories[track_id][i][1])), color, 1)\n",
    "\n",
    "        # Draw rectangle for sperm head\n",
    "        cv2.rectangle(frame, (int(row['xmin']), int(row['ymin'])), (int(row['xmax']), int(row['ymax'])), color, 1)\n",
    "        \n",
    "        # Draw id of sperm\n",
    "        cv2.putText(frame, str(track_id), (cx + 10, cy), cv2.FONT_HERSHEY_PLAIN, 1.2, (255, 255, 255), 1,  cv2.LINE_AA )\n",
    "\n",
    "\n",
    "    # Display the frame\n",
    "    cv2.imshow('Sperm Velocity', frame)\n",
    "\n",
    "    # Save the frame (optional)\n",
    "    #cv2.imwrite(f'output/frame_{frame_id:04d}.jpg', frame)\n",
    "\n",
    "    # Wait for the calculated delay\n",
    "    if cv2.waitKey(new_delay) & 0xFF == ord('q'):\n",
    "        break\n",
    "    \n",
    "    # Increase frame\n",
    "    frame_id += 1\n",
    "\n",
    "# Release the video capture object and close windows\n",
    "cap.release()\n",
    "cv2.destroyAllWindows()"
   ]
  }
 ],
 "metadata": {
  "kernelspec": {
   "display_name": "python_TFM",
   "language": "python",
   "name": "python3"
  },
  "language_info": {
   "codemirror_mode": {
    "name": "ipython",
    "version": 3
   },
   "file_extension": ".py",
   "mimetype": "text/x-python",
   "name": "python",
   "nbconvert_exporter": "python",
   "pygments_lexer": "ipython3",
   "version": "3.12.9"
  }
 },
 "nbformat": 4,
 "nbformat_minor": 2
}
