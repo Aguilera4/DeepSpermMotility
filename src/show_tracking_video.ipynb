{
 "cells": [
  {
   "cell_type": "markdown",
   "metadata": {},
   "source": [
    "Import"
   ]
  },
  {
   "cell_type": "code",
   "execution_count": 1,
   "metadata": {},
   "outputs": [],
   "source": [
    "import cv2\n",
    "from sort.sort import *\n",
    "import pandas as pd\n",
    "from classify_by_movement import *\n",
    "import pandas as pd\n",
    "from calculate_features import *"
   ]
  },
  {
   "cell_type": "code",
   "execution_count": 2,
   "metadata": {},
   "outputs": [],
   "source": [
    "# Show graph inline\n",
    "%matplotlib inline"
   ]
  },
  {
   "cell_type": "markdown",
   "metadata": {},
   "source": [
    "## Show results of video"
   ]
  },
  {
   "cell_type": "code",
   "execution_count": 24,
   "metadata": {},
   "outputs": [],
   "source": [
    "# Open the video file\n",
    "video_number = str(11)\n",
    "fps = 50  # Replace with your video's frame rate\n",
    "\n",
    "#video_path = 'data/data_orig/val/'+video_number+'/'+video_number+'.mp4'\n",
    "video_path = '../data/VISEM_Tracking/train/11/11.mp4'"
   ]
  },
  {
   "cell_type": "markdown",
   "metadata": {},
   "source": [
    "## Calculate centroid"
   ]
  },
  {
   "cell_type": "code",
   "execution_count": 20,
   "metadata": {},
   "outputs": [
    {
     "name": "stdout",
     "output_type": "stream",
     "text": [
      "Velocity data saved to sperm_tracking_with_velocity.csv\n"
     ]
    }
   ],
   "source": [
    "# Load the tracking data from a CSV file\n",
    "df = pd.read_csv('../results/data_sperm_tracking/sperm_tracking_data_'+ video_number +'.csv')\n",
    "\n",
    "# Calculate velocity for each track_id\n",
    "df['velocity_x'] = 0.0\n",
    "df['velocity_y'] = 0.0\n",
    "df['speed'] = 0.0\n",
    "\n",
    "# Frame rate of the video (frames per second)\n",
    "dt = 1 / fps  # Time interval between frames\n",
    "\n",
    "# Group by track_id and calculate velocity\n",
    "for track_id, group in df.groupby('track_id'):\n",
    "    # Calculate displacement (delta x and delta y)\n",
    "    group['delta_x'] = group['cx'].diff()\n",
    "    group['delta_y'] = group['cy'].diff()\n",
    "\n",
    "    # Calculate velocity (pixels per second)\n",
    "    group['velocity_x'] = group['delta_x'] / dt\n",
    "    group['velocity_y'] = group['delta_y'] / dt\n",
    "\n",
    "    # Calculate speed (magnitude of velocity)\n",
    "    group['speed'] = (group['velocity_x']**2 + group['velocity_y']**2)**0.5\n",
    "    \n",
    "    \n",
    "    # Calculate mean and maximum velocity\n",
    "    group[\"mean_velocity\"] = group['speed'].mean()\n",
    "    group[\"max_velocity\"] = group['speed'].max()\n",
    "    \n",
    "    df.loc[group.index, ['mean_velocity', 'max_velocity']] = group[['mean_velocity', 'max_velocity']].fillna(0)\n",
    "    \n",
    "    # Update the original DataFrame\n",
    "    df.loc[group.index, ['velocity_x', 'velocity_y', 'speed']] = group[['velocity_x', 'velocity_y', 'speed']].fillna(0)\n",
    "\n",
    "# Save the updated DataFrame with velocity data\n",
    "df.to_csv('../results/data_sperm_track_and_velocity/sperm_tracking_with_velocity_' + video_number + '.csv', index=False)\n",
    "\n",
    "print(\"Velocity data saved to sperm_tracking_with_velocity.csv\")"
   ]
  },
  {
   "cell_type": "markdown",
   "metadata": {},
   "source": [
    "## Show tracking and velocitty in video"
   ]
  },
  {
   "cell_type": "code",
   "execution_count": 38,
   "metadata": {},
   "outputs": [
    {
     "name": "stderr",
     "output_type": "stream",
     "text": [
      "C:\\Users\\Sergio\\AppData\\Local\\Temp\\ipykernel_11904\\144952498.py:42: FutureWarning: Calling int on a single element Series is deprecated and will raise a TypeError in the future. Use int(ser.iloc[0]) instead\n",
      "  n_class = int(df_class[df_class['sperm_id']==track_id]['label'])\n"
     ]
    }
   ],
   "source": [
    "# Load the tracking data with velocity\n",
    "df = pd.read_csv('../results/data_sperm_track_and_velocity/sperm_tracking_with_velocity_' + video_number + '.csv')\n",
    "df_class = pd.read_csv('../results/data_features_labelling/dataset_3c_11.csv')\n",
    "# Open the video file\n",
    "cap = cv2.VideoCapture(video_path)\n",
    "pixel_to_micron = 0.5\n",
    "trajectories = {}\n",
    "\n",
    "# Set the slow-motion factor (e.g., 0.5 for half speed, 0.25 for quarter speed)\n",
    "slow_motion_factor = 0.3 # Adjust this value as needed\n",
    "\n",
    "# Calculate the new delay between frames\n",
    "original_delay = int(1000 / fps)  # Delay in milliseconds\n",
    "new_delay = int(original_delay / slow_motion_factor)\n",
    "\n",
    "# Process the video frame by frame\n",
    "frame_id = 0\n",
    "while cap.isOpened():\n",
    "    ret, frame = cap.read()\n",
    "    if not ret:\n",
    "        break\n",
    "\n",
    "    # Get the data for the current frame\n",
    "    frame_data = df[df['frame_id'] == frame_id]\n",
    "\n",
    "    # Draw velocity vectors on the frame\n",
    "    for _, row in frame_data.iterrows():\n",
    "        cx, cy = int(row['cx']), int(row['cy'])\n",
    "        vx, vy = row['velocity_x'], row['velocity_y']\n",
    "\n",
    "        # Scale the velocity vector for visualization\n",
    "        scale = 0.3  # Adjust this to make the vectors visible\n",
    "        end_point = int(cx + vx * scale), int(cy + vy * scale)\n",
    "        track_id = int(row['track_id'])\n",
    "        if track_id not in trajectories:\n",
    "            trajectories[track_id] = []\n",
    "        trajectories[track_id].append((cx, cy))\n",
    "        \n",
    "        n_class = 0\n",
    "\n",
    "        try:\n",
    "            n_class = int(df_class[df_class['sperm_id']==track_id]['label'])\n",
    "        except:\n",
    "            continue\n",
    "        \n",
    "        color = (0, 0, 0)\n",
    "        \n",
    "        # Definir el color según la clase\n",
    "        if n_class == 0:\n",
    "            color = (0, 255, 0)      # Verde oscuro\n",
    "        elif n_class == 1:\n",
    "            color = (255, 0, 0) # Azul\n",
    "        elif n_class == 2:\n",
    "            color = (0, 255, 255) # Amarillo\n",
    "        elif n_class == 3:\n",
    "            color =  (0, 0, 255)  # Rojo\n",
    "    \n",
    "        # Draw path\n",
    "        for i in range(1, len(trajectories[track_id])):\n",
    "            cv2.line(frame, (int(trajectories[track_id][i - 1][0]),int(trajectories[track_id][i - 1][1])), (int(trajectories[track_id][i][0]),int(trajectories[track_id][i][1])), color, 1)\n",
    "\n",
    "        cv2.rectangle(frame, (int(row['xmin']), int(row['ymin'])), (int(row['xmax']), int(row['ymax'])), color, 1)\n",
    "        \n",
    "        # Draw the velocity vector\n",
    "        cv2.putText(frame, str(track_id), (cx + 10, cy), cv2.FONT_HERSHEY_PLAIN, 0.6, (0, 255, 0), 2)\n",
    "\n",
    "\n",
    "    # Display the frame\n",
    "    cv2.imshow('Sperm Velocity', frame)\n",
    "\n",
    "    # Save the frame (optional)\n",
    "    cv2.imwrite(f'output/frame_{frame_id:04d}.jpg', frame)\n",
    "\n",
    "    # Wait for the calculated delay\n",
    "    if cv2.waitKey(new_delay) & 0xFF == ord('q'):\n",
    "        break\n",
    "    frame_id += 1\n",
    "\n",
    "# Release the video capture object and close windows\n",
    "cap.release()\n",
    "cv2.destroyAllWindows()"
   ]
  }
 ],
 "metadata": {
  "kernelspec": {
   "display_name": "python_TFM",
   "language": "python",
   "name": "python3"
  },
  "language_info": {
   "codemirror_mode": {
    "name": "ipython",
    "version": 3
   },
   "file_extension": ".py",
   "mimetype": "text/x-python",
   "name": "python",
   "nbconvert_exporter": "python",
   "pygments_lexer": "ipython3",
   "version": "3.12.9"
  }
 },
 "nbformat": 4,
 "nbformat_minor": 2
}
